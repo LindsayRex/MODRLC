{
 "cells": [
  {
   "cell_type": "code",
   "execution_count": 55,
   "metadata": {},
   "outputs": [],
   "source": [
    "{}\n",
    "import os\n",
    "import numpy as np\n",
    "import pprint\n",
    "import pickle\n",
    "import matplotlib.dates as mdates\n",
    "import matplotlib.pyplot as plt\n",
    "\n",
    "\n",
    "\n",
    "from pathlib import Path"
   ]
  },
  {
   "cell_type": "code",
   "execution_count": 20,
   "metadata": {},
   "outputs": [],
   "source": [
    "# read in the matrices to inspect\n",
    "\n",
    "p = Path('.').resolve().parent / 'lasso_and_n4sid' / 'n4sid_v1'\n",
    "\n",
    "if p.exists():\n",
    "    a_matrix = np.load(p / 'matrix_A1.npy')\n",
    "    b_matrix = np.load(p / 'matrix_B1.npy')\n",
    "    c_matrix = np.load(p / 'matrix_C1.npy')\n",
    "    d_matrix = np.load(p / 'matrix_D1.npy')\n"
   ]
  },
  {
   "cell_type": "code",
   "execution_count": 9,
   "metadata": {},
   "outputs": [
    {
     "name": "stdout",
     "output_type": "stream",
     "text": [
      "[[ 0.98154062  0.00392863  0.01305596  0.00994301 -0.00620773 -0.03393096\n",
      "   0.01451968  0.00945787]\n",
      " [ 0.20462503  0.88923136  0.03718339  0.00138765  0.10304766 -0.23615481\n",
      "  -0.0292271   0.10253744]\n",
      " [ 0.84337744 -0.25996913  0.81063378  0.08407197  0.41340258  0.17511514\n",
      "  -0.18206814  0.07113234]\n",
      " [-1.13376645  0.43389347  0.09257787  0.79322779  0.10973279  0.24918882\n",
      "   0.03100918  0.02343908]\n",
      " [ 0.9180556  -0.39322804 -0.38310123 -0.19692349  0.77337838  0.26735187\n",
      "  -0.06651764 -0.00315444]\n",
      " [-0.04663159  0.20924382  0.2769302   0.45830949 -0.06402696  0.43991173\n",
      "  -0.40245776 -0.25000864]\n",
      " [ 0.56880797 -0.12315229 -0.17101381  0.04237984 -0.01335673  0.26500754\n",
      "   0.43938171  0.12977529]\n",
      " [-0.50665319  0.6132963   0.11002295  0.51078421  0.28707335 -0.2386131\n",
      "  -0.34388066 -0.44998195]]\n",
      "(8, 8)\n",
      "[[ 1.06739218e-06  3.10049417e-07  8.64458389e-07  2.65407124e-06\n",
      "   1.88540480e-05 -1.84875570e-04  1.20371572e-04 -2.13067533e-05\n",
      "   1.05997270e-05 -1.57168952e-03 -2.30996442e-08 -9.32387794e-08\n",
      "  -3.49595652e-07  3.03593088e-05  2.11203430e-04 -2.96570726e-03\n",
      "  -1.71410295e-05]\n",
      " [-9.68579987e-06 -8.78305513e-06  1.92672401e-05  7.68486156e-05\n",
      "  -2.91093666e-04  7.31658697e-04  2.70405406e-04  1.83043869e-04\n",
      "  -3.89016668e-04  2.38599144e-02  3.59324203e-07  5.62536744e-07\n",
      "   4.20947900e-06 -3.17952463e-03 -2.65070495e-03 -4.09044620e-02\n",
      "  -4.59913695e-05]\n",
      " [-4.14745489e-05 -1.20191426e-05  7.90852847e-06 -1.20740638e-04\n",
      "   2.14648714e-04  4.31642148e-03 -1.36881014e-03  3.20845413e-04\n",
      "   3.84464256e-04  6.17154927e-02 -1.14130477e-07 -1.19986859e-06\n",
      "  -6.80607610e-06  2.83758900e-03  2.12229505e-03 -2.28475057e-02\n",
      "   2.06213510e-05]\n",
      " [ 2.89360135e-05  1.45635786e-05 -3.26953333e-05 -1.98942562e-05\n",
      "   3.68005013e-04  1.80334857e-03 -6.53295608e-03 -3.59418528e-04\n",
      "   3.09060849e-04  3.13969809e-02 -3.33965216e-07  4.64731416e-07\n",
      "   4.98830177e-06 -2.19001946e-03 -9.03776964e-04  4.38775719e-02\n",
      "  -5.33889303e-05]\n",
      " [-1.97588701e-05 -1.20902661e-05  1.04897343e-05  8.11975028e-05\n",
      "  -6.40299208e-04 -1.55226272e-03  5.67983140e-03  7.98012739e-04\n",
      "  -7.45510394e-04 -2.92729781e-02 -8.24059683e-08 -1.05003251e-07\n",
      "  -2.85152759e-06  1.61000608e-03  6.21545589e-04  1.56865860e-02\n",
      "  -3.08230716e-05]\n",
      " [ 4.43957889e-05  8.61509917e-06 -1.33400341e-05 -1.18538697e-04\n",
      "  -1.02980397e-03 -1.75805722e-03  2.81023028e-03 -3.57336860e-04\n",
      "  -5.96848053e-04 -3.39172144e-02  3.53577603e-07  1.71506774e-07\n",
      "   5.02170536e-06 -3.15349433e-03 -9.76359335e-05 -1.26832769e-02\n",
      "   1.87638386e-05]\n",
      " [ 1.74403691e-05 -6.17522270e-06 -1.29495826e-05 -7.57872548e-05\n",
      "  -1.42390877e-03  2.99230578e-03  5.56097016e-04  1.05105906e-04\n",
      "   1.44015532e-05  2.43299025e-02 -1.12465268e-07  2.67845310e-07\n",
      "   2.22542344e-06 -1.14485534e-03  7.20688542e-04  2.50080948e-02\n",
      "  -3.19690729e-05]\n",
      " [ 1.36044160e-05  2.83051708e-05 -6.95428316e-05 -4.37358097e-04\n",
      "   7.15063797e-04 -3.87811981e-03  1.97273396e-03  4.34848333e-04\n",
      "  -2.22457730e-03 -7.62004701e-02 -6.79013877e-09  3.34334427e-07\n",
      "   3.49549777e-06 -1.41474459e-03 -2.83687085e-03  6.12325386e-02\n",
      "  -3.12488591e-05]]\n",
      "(8, 17)\n",
      "[[-278.37588031  -43.8268167  -139.13514672 -193.38586082 -166.72062854\n",
      "   241.81660788   -3.50173935  160.23322528]]\n",
      "[[0. 0. 0. 0. 0. 0. 0. 0. 0. 0. 0. 0. 0. 0. 0. 0. 0.]]\n"
     ]
    }
   ],
   "source": [
    "print(a_matrix)\n",
    "print(a_matrix.shape)\n",
    "print(b_matrix)\n",
    "print(b_matrix.shape)\n",
    "print(c_matrix)\n",
    "print(d_matrix)"
   ]
  },
  {
   "cell_type": "code",
   "execution_count": 174,
   "metadata": {},
   "outputs": [
    {
     "data": {
      "text/plain": [
       "array([[-0.58772656, -0.05484999, -0.03070292],\n",
       "       [-1.25653591, -0.15766376, -0.0704444 ],\n",
       "       [ 1.44156839, -0.54128782, -0.13929845]])"
      ]
     },
     "metadata": {},
     "output_type": "display_data"
    },
    {
     "data": {
      "text/plain": [
       "array([[-2.76733146e-04, -4.00729107e-04, -3.75813866e-03,\n",
       "         1.03071702e-06, -3.56493033e-08,  7.21066236e-08,\n",
       "         1.04989708e-06,  1.67032337e-07,  5.42159590e-05,\n",
       "         3.24855873e-04],\n",
       "       [ 3.48147623e-04, -7.79597632e-04, -3.34187839e-03,\n",
       "        -2.17535687e-06, -9.64016812e-09,  3.88379219e-10,\n",
       "        -3.85899108e-07,  1.11176457e-07,  2.11183010e-03,\n",
       "        -2.85055526e-04],\n",
       "       [-3.64584550e-03,  1.10863789e-04,  7.41396884e-03,\n",
       "        -1.44607323e-05,  2.62378883e-08, -1.52882841e-07,\n",
       "        -4.94227931e-06,  1.68469233e-06,  3.47484698e-04,\n",
       "         4.17967736e-03]])"
      ]
     },
     "metadata": {},
     "output_type": "display_data"
    },
    {
     "name": "stdout",
     "output_type": "stream",
     "text": [
      "(3, 3)\n",
      "(3,)\n",
      "(3, 10)\n",
      "(10,)\n",
      "x_next is [-3.38666858 -7.43296546  3.84685217]\n",
      "y_modeled is [-703.14547952]\n"
     ]
    }
   ],
   "source": [
    "# Version 3\n",
    "\n",
    "p = Path('.').resolve().parent / 'lasso_and_n4sid' / 'n4sid_v3'\n",
    "\n",
    "if p.exists():\n",
    "    a_matrix = np.load(p / 'matrix_AK1.npy')\n",
    "    b_matrix = np.load(p / 'matrix_BK1.npy')\n",
    "    c_matrix = np.load(p / 'matrix_C1.npy')\n",
    "    d_matrix = np.load(p / 'matrix_D1.npy')\n",
    "    \n",
    "display(a_matrix)\n",
    "display(b_matrix)\n",
    "_x = np.array([5, 5, 5])\n",
    "_u = np.array([5, 5, 5, 5, 5, 5, 5, 5, 5, 5])\n",
    "\n",
    "print(a_matrix.shape)\n",
    "print(_x.shape)\n",
    "    \n",
    "print(b_matrix.shape)\n",
    "print(_u.shape)\n",
    "\n",
    "x_next = a_matrix @ _x + b_matrix @ _u\n",
    "y_modeled = c_matrix @ _x + d_matrix @ _u\n",
    "\n",
    "print(f\"x_next is {x_next}\")\n",
    "print(f\"y_modeled is {y_modeled}\")\n",
    "\n"
   ]
  },
  {
   "cell_type": "code",
   "execution_count": 191,
   "metadata": {
    "collapsed": false,
    "jupyter": {
     "outputs_hidden": false
    },
    "pycharm": {
     "name": "#%%\n"
    }
   },
   "outputs": [
    {
     "name": "stdout",
     "output_type": "stream",
     "text": [
      "       Type                Name\n",
      "       ----                ----\n",
      "      _tvp:             TDryBul\n",
      "      _tvp:             HGloHor\n",
      "      _tvp:     occupancy_ratio\n",
      "      _tvp:     TSetpoint_Lower\n",
      "      _tvp:     TSetpoint_Upper\n",
      "      _tvp:            ElecCost\n",
      "        _u:       heating_power\n",
      "        _u:       cooling_power\n",
      "        _u:     t_heat_setpoint\n",
      "        _u:     t_cool_setpoint\n",
      "        _x:            t_indoor\n",
      "        _x:          t_indoor_1\n",
      "        _x:          t_indoor_2\n",
      "      _aux:         total_power\n",
      "      _aux:                cost\n"
     ]
    },
    {
     "data": {
      "text/plain": [
       "{'_time': 1,\n",
       " '_x': 6,\n",
       " '_y': 0,\n",
       " '_u': 4,\n",
       " '_z': 0,\n",
       " '_tvp': 6,\n",
       " '_p': 0,\n",
       " '_aux': 3,\n",
       " '_eps': 0,\n",
       " 'opt_p_num': 196,\n",
       " '_opt_x_num': 306,\n",
       " '_opt_aux_num': 90,\n",
       " '_lam_g_num': 186,\n",
       " 'success': 1,\n",
       " 't_wall_S': 1}"
      ]
     },
     "metadata": {},
     "output_type": "display_data"
    },
    {
     "data": {
      "text/plain": [
       "numpy.ndarray"
      ]
     },
     "metadata": {},
     "output_type": "display_data"
    },
    {
     "data": {
      "text/plain": [
       "['__class__',\n",
       " '__contains__',\n",
       " '__delattr__',\n",
       " '__delitem__',\n",
       " '__dir__',\n",
       " '__doc__',\n",
       " '__eq__',\n",
       " '__format__',\n",
       " '__ge__',\n",
       " '__getattribute__',\n",
       " '__getitem__',\n",
       " '__gt__',\n",
       " '__hash__',\n",
       " '__init__',\n",
       " '__init_subclass__',\n",
       " '__iter__',\n",
       " '__le__',\n",
       " '__len__',\n",
       " '__lt__',\n",
       " '__ne__',\n",
       " '__new__',\n",
       " '__reduce__',\n",
       " '__reduce_ex__',\n",
       " '__repr__',\n",
       " '__setattr__',\n",
       " '__setitem__',\n",
       " '__sizeof__',\n",
       " '__str__',\n",
       " '__subclasshook__',\n",
       " 'clear',\n",
       " 'copy',\n",
       " 'fromkeys',\n",
       " 'get',\n",
       " 'items',\n",
       " 'keys',\n",
       " 'pop',\n",
       " 'popitem',\n",
       " 'setdefault',\n",
       " 'update',\n",
       " 'values']"
      ]
     },
     "execution_count": 191,
     "metadata": {},
     "output_type": "execute_result"
    },
    {
     "data": {
      "image/png": "[encoded data removed]",
      "text/plain": [
       "<Figure size 1080x144 with 1 Axes>"
      ]
     },
     "metadata": {
      "needs_background": "light"
     },
     "output_type": "display_data"
    }
   ],
   "source": [
    "# parse some of the results!\n",
    "# -- 003 is the statefeedback. \n",
    "results_file = Path('.').resolve() / 'results' / 'som3_mpc_stateestimator.pkl'\n",
    "if p.exists():\n",
    "    with open(results_file, 'rb') as f:\n",
    "        results = pickle.load(f)\n",
    "\n",
    "variables = results['mpc'].result_queries\n",
    "print(f\"{'Type':>11}{'Name':>20}\")\n",
    "print(f\"{'----':>11}{'----':>20}\")\n",
    "for v in variables['ind']:\n",
    "    if len(v) > 2:\n",
    "        continue\n",
    "    print(f\"{v[0]:>10}:{v[1]:>20}\")\n",
    "display(results['mpc'].data_fields)\n",
    "display(results['mpc']['_x'].__class__)\n",
    "\n",
    "\n",
    "# tvp indexes\n",
    "t_dry_bulb_index = 0\n",
    "glo_hor_index = 1\n",
    "occ_ratio_index = 2\n",
    "t_setpoint_low_index = 3\n",
    "t_setpoint_high_index = 4\n",
    "elec_cost_index = 5\n",
    "\n",
    "# x indexes\n",
    "x_0_index = 0\n",
    "x_1_index = 1\n",
    "x_2_index = 2\n",
    "t_indoor_index = 3\n",
    "t_indoor_prev_index = 4\n",
    "t_indoor_prev_prev_index = 5\n",
    "\n",
    "# u indexes\n",
    "t_heat_setpoint_index = 0\n",
    "t_cool_setpoint_index = 1\n",
    "heating_power_index = 2\n",
    "cooling_power_index = 3\n",
    "\n",
    "# TODO -- deal with time\n",
    "# print(results['mpc']['_time'])\n",
    "\n",
    "max_t = 15\n",
    "fig, ax = plt.subplots(figsize=(15, 2))\n",
    "plt.plot(results['mpc']['_x', 't_indoor'][:max_t], 'g--', label=\"Tin[t]\")\n",
    "plt.plot(results['mpc']['_x', 't_indoor_1'][:max_t], 'b--', label=\"Tin[t-1]\")\n",
    "plt.plot(results['mpc']['_x', 't_indoor_2'][:max_t], 'r--', label=\"Tin[t-2]\")\n",
    "# plt.plot(results['mpc']['_tvp', 'TSetpoint_Upper'][:max_t], label=\"TUpper\")\n",
    "# plt.plot(results['mpc']['_tvp', 'TSetpoint_Lower'][:max_t], label=\"Tlower\")\n",
    "\n",
    "# plt.plot(index, row['EMA26'], marker='o', markersize=5, color=\"darkred\")\n",
    "# plt.axvline(x=index, linewidth=2, color='r')\n",
    "\n",
    "plt.title('Indoor Temperatures')\n",
    "plt.xlabel('Time step (5 mins)')\n",
    "plt.ylabel('T (K)')\n",
    "plt.legend()\n",
    "\n",
    "# test the y_meas calculation\n",
    "\n",
    "\n",
    "# display(results['mpc'].keys())\n",
    "\n",
    "dir(results['mpc'].result_queries)"
   ]
  },
  {
   "cell_type": "code",
   "execution_count": 197,
   "metadata": {},
   "outputs": [
    {
     "name": "stdout",
     "output_type": "stream",
     "text": [
      "The x_matrix init: [-0.8227    -0.0350391 -0.0059108]\n",
      "Indoor air temperature do-mpc: 293.00, y_modeled: 293.06. H_sp: 293 C_sp: 298 \n",
      "Indoor air temperature do-mpc: 293.06, y_modeled: 164.27. H_sp: 293 C_sp: 298 \n",
      "Indoor air temperature do-mpc: 147.50, y_modeled: 105.65. H_sp: 293 C_sp: 298 \n",
      "Indoor air temperature do-mpc: 82.90, y_modeled: 141.41. H_sp: 293 C_sp: 298 \n",
      "Indoor air temperature do-mpc: 137.67, y_modeled: 54.63. H_sp: 293 C_sp: 298 \n",
      "Indoor air temperature do-mpc: 52.26, y_modeled: 76.67. H_sp: 293 C_sp: 298 \n",
      "Indoor air temperature do-mpc: 53.72, y_modeled: 59.25. H_sp: 293 C_sp: 298 \n",
      "Indoor air temperature do-mpc: 38.97, y_modeled: 43.10. H_sp: 293 C_sp: 298 \n",
      "Indoor air temperature do-mpc: 30.84, y_modeled: 48.87. H_sp: 293 C_sp: 298 \n",
      "Indoor air temperature do-mpc: 20.20, y_modeled: 39.76. H_sp: 293 C_sp: 298 \n",
      "Indoor air temperature do-mpc: 15.16, y_modeled: 37.19. H_sp: 293 C_sp: 298 \n",
      "Indoor air temperature do-mpc: 12.61, y_modeled: 38.29. H_sp: 293 C_sp: 298 \n",
      "Indoor air temperature do-mpc: 7.54, y_modeled: 34.37. H_sp: 293 C_sp: 298 \n",
      "Indoor air temperature do-mpc: 6.00, y_modeled: 34.79. H_sp: 293 C_sp: 298 \n",
      "Indoor air temperature do-mpc: 3.97, y_modeled: 34.24. H_sp: 293 C_sp: 298 \n",
      "Indoor air temperature do-mpc: 2.68, y_modeled: 33.20. H_sp: 293 C_sp: 298 \n",
      "Indoor air temperature do-mpc: 1.56, y_modeled: 33.47. H_sp: 293 C_sp: 298 \n",
      "Indoor air temperature do-mpc: 0.83, y_modeled: 33.03. H_sp: 293 C_sp: 298 \n",
      "Indoor air temperature do-mpc: 0.27, y_modeled: 32.84. H_sp: 293 C_sp: 298 \n",
      "Indoor air temperature do-mpc: -0.21, y_modeled: 32.90. H_sp: 293 C_sp: 298 \n",
      "Indoor air temperature do-mpc: -0.51, y_modeled: 32.70. H_sp: 293 C_sp: 298 \n",
      "Indoor air temperature do-mpc: -0.77, y_modeled: 32.70. H_sp: 293 C_sp: 298 \n",
      "Indoor air temperature do-mpc: -0.95, y_modeled: 32.68. H_sp: 293 C_sp: 298 \n",
      "Indoor air temperature do-mpc: -1.10, y_modeled: 32.62. H_sp: 293 C_sp: 298 \n",
      "Indoor air temperature do-mpc: -1.20, y_modeled: 32.63. H_sp: 293 C_sp: 298 \n",
      "Indoor air temperature do-mpc: -1.28, y_modeled: 32.61. H_sp: 293 C_sp: 298 \n",
      "Indoor air temperature do-mpc: -1.34, y_modeled: 32.60. H_sp: 293 C_sp: 298 \n",
      "Indoor air temperature do-mpc: -1.38, y_modeled: 32.60. H_sp: 293 C_sp: 298 \n",
      "Indoor air temperature do-mpc: -1.42, y_modeled: 32.59. H_sp: 293 C_sp: 298 \n",
      "Indoor air temperature do-mpc: -1.44, y_modeled: 32.59. H_sp: 293 C_sp: 298 \n"
     ]
    },
    {
     "data": {
      "text/plain": [
       "<matplotlib.legend.Legend at 0x124960b90>"
      ]
     },
     "execution_count": 197,
     "metadata": {},
     "output_type": "execute_result"
    },
    {
     "data": {
      "image/png": "[encoded data removed]",
      "text/plain": [
       "<Figure size 1080x144 with 1 Axes>"
      ]
     },
     "metadata": {
      "needs_background": "light"
     },
     "output_type": "display_data"
    }
   ],
   "source": [
    "## Test if the temperature increases with the x's and u's given in the MPC\n",
    "from collections import deque\n",
    "\n",
    "# t_dry_bulb,\n",
    "# h_glo_hor,\n",
    "# occupancy_ratio,\n",
    "# t_heat_setpoint - t_indoor,\n",
    "# t_indoor_1 - t_cool_setpoint,\n",
    "# t_dry_bulb - t_indoor_1,\n",
    "# heating_power,\n",
    "# cooling_power,\n",
    "# t_indoor_1,\n",
    "# t_indoor_1 - t_indoor_2,\n",
    "\n",
    "# construst the x and u matrix\n",
    "t_init = 0\n",
    "_x = results['mpc']['_x', 'x'][t_init]\n",
    "print(f\"The x_matrix init: {_x}\")\n",
    "\n",
    "temps = deque([293, 293, 293])\n",
    "t_heat_setpoint = 293\n",
    "t_cool_setpoint = 298\n",
    "# var to store results\n",
    "t_state_indoor = []\n",
    "for t in range(0,30):\n",
    "\n",
    "#     _u = np.array([\n",
    "#         results['mpc']['_tvp', 'TDryBul'][t][0],\n",
    "#         results['mpc']['_tvp', 'HGloHor'][t][0],\n",
    "#         results['mpc']['_tvp', 'occupancy_ratio'][t][0],\n",
    "#         results['mpc']['_u', 't_heat_setpoint'][t][0] - results['mpc']['_x', 't_indoor'][t][0],\n",
    "#         results['mpc']['_x', 't_indoor'][t][0] - results['mpc']['_u', 't_cool_setpoint'][t][0],\n",
    "#         results['mpc']['_tvp', 'TDryBul'][t][0] - results['mpc']['_x', 't_indoor_1'][t][0],\n",
    "#         results['mpc']['_u', 'heating_power'][t][0],\n",
    "#         results['mpc']['_u', 'cooling_power'][t][0],\n",
    "#         results['mpc']['_x', 't_indoor_1'][t][0],\n",
    "#         results['mpc']['_x', 't_indoor_1'][t][0] - results['mpc']['_x', 't_indoor_2'][t][0],\n",
    "#     ])\n",
    "    \n",
    "    t_indoor = temps.popleft()\n",
    "    t_indoor_1 = temps[0]\n",
    "    t_indoor_2 = temps[1]\n",
    "        \n",
    "    # force some of these variables as fixed\n",
    "    _u = np.array([\n",
    "        273, # freezing outside\n",
    "        0,  # no sun\n",
    "        1,  # full occupancy\n",
    "        t_heat_setpoint - t_indoor,\n",
    "        t_indoor - t_cool_setpoint,\n",
    "        273 - t_indoor_1,\n",
    "        30000,  # full heating power\n",
    "        0,      # no cooling\n",
    "        t_indoor_1,\n",
    "        t_indoor_1 - t_indoor_2,\n",
    "    ])\n",
    "\n",
    "\n",
    "#     print(_u)\n",
    "#     display(_x)\n",
    "#     print(a_matrix.shape)\n",
    "#     print(_x.shape)\n",
    "    \n",
    "#     print(b_matrix.shape)\n",
    "#     print(_u.shape)\n",
    "    x_next = a_matrix @ _x + b_matrix @ _u\n",
    "    y_modeled = c_matrix @ _x + d_matrix @ _u\n",
    "#     display(x_next)\n",
    "#     display(y_modeled)\n",
    "    _x = x_next\n",
    "\n",
    "    t_state_indoor.append(y_modeled[0])\n",
    "    temps.append(y_modeled[0])\n",
    "#     print(temps)\n",
    "    print(f\"Indoor air temperature do-mpc: {results['mpc']['_x', 't_indoor'][t][0]:.2f}, y_modeled: {y_modeled[0]:.2f}. H_sp: {t_heat_setpoint} C_sp: {t_cool_setpoint} \")\n",
    "\n",
    "fig, ax = plt.subplots(figsize=(15, 2))\n",
    "plt.plot(t_state_indoor, 'g--', label=\"Tin[t]\")\n",
    "plt.title('Indoor Temperatures')\n",
    "plt.xlabel('Time step (5 mins)')\n",
    "plt.ylabel('T (K)')\n",
    "plt.legend()"
   ]
  },
  {
   "cell_type": "code",
   "execution_count": null,
   "metadata": {},
   "outputs": [],
   "source": []
  },
  {
   "cell_type": "code",
   "execution_count": null,
   "metadata": {},
   "outputs": [],
   "source": []
  }
 ],
 "metadata": {
  "kernelspec": {
   "display_name": "Python 3",
   "language": "python",
   "name": "python3"
  },
  "language_info": {
   "codemirror_mode": {
    "name": "ipython",
    "version": 3
   },
   "file_extension": ".py",
   "mimetype": "text/x-python",
   "name": "python",
   "nbconvert_exporter": "python",
   "pygments_lexer": "ipython3",
   "version": "3.7.9"
  }
 },
 "nbformat": 4,
 "nbformat_minor": 4
}
